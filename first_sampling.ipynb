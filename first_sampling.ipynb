{
  "nbformat": 4,
  "nbformat_minor": 0,
  "metadata": {
    "colab": {
      "provenance": [],
      "include_colab_link": true
    },
    "kernelspec": {
      "name": "python3",
      "display_name": "Python 3"
    },
    "language_info": {
      "name": "python"
    }
  },
  "cells": [
    {
      "cell_type": "markdown",
      "metadata": {
        "id": "view-in-github",
        "colab_type": "text"
      },
      "source": [
        "<a href=\"https://colab.research.google.com/github/alexhong1/AI-BigData-Project-1/blob/main/first_sampling.ipynb\" target=\"_parent\"><img src=\"https://colab.research.google.com/assets/colab-badge.svg\" alt=\"Open In Colab\"/></a>"
      ]
    },
    {
      "cell_type": "markdown",
      "source": [
        "### <b>다양한 분포에서 추출(Sampling) 해보기</b>\n",
        "\n",
        "* 딥러닝 분야에서는 정규 분포, 베타 분포 등의 확률 분포가 많이 사용된다.\n",
        "* NumPy를 사용하여 이러한 분포에서 다양한 차원의 데이터를 <b>추출(sampling)</b>을 해보자.\n",
        "* 코드를 실행하여 통계적인 특성을 확인할 수 있다."
      ],
      "metadata": {
        "id": "kLeGTfB0Hqvo"
      }
    },
    {
      "cell_type": "code",
      "execution_count": null,
      "metadata": {
        "id": "nQCVmjtPHfk_"
      },
      "outputs": [],
      "source": [
        "import numpy as np\n",
        "import matplotlib.pyplot as plt"
      ]
    },
    {
      "cell_type": "markdown",
      "source": [
        "#### <b>NumPy 균등 분포(Uniform Distribution)</b>\n",
        "\n",
        "* 구간 내 모든 데이터에 대하여 추출 <b>확률이 동일한 분포</b>다.\n",
        "* Draw samples from a uniform distribution.\n",
        "* Samples are uniformly distributed over the 반개구간(half-open interval) [low, high).\n",
        "* The <b>확률 밀도 함수(probability density function)</b> of the uniform distribution:\n",
        "\n",
        "$p(x) = 1 / (b - a)$\n",
        "\n",
        "* <b>파라미터(Parameters)</b>\n",
        "  * <b>low</b>: All values generated will be greater than or equal to <b>low</b>. (default: 0)\n",
        "  * <b>high</b>: All values generated will be less than <b>high</b>. (default: 1.0)\n",
        "  * <b>size</b>: Output shape. (default: None)\n",
        "\n",
        "* <b>Reference</b>: https://numpy.org/doc/stable/reference/random/generated/numpy.random.uniform.html"
      ],
      "metadata": {
        "id": "qxdKqlo8H9fA"
      }
    },
    {
      "cell_type": "code",
      "source": [
        "sampled = np.random.uniform(low=0.0, high=1.0, size=(2, 4))\n",
        "\n",
        "print(sampled)"
      ],
      "metadata": {
        "colab": {
          "base_uri": "https://localhost:8080/"
        },
        "id": "KeK_l-e7IEUx",
        "outputId": "798f8b79-329c-4f22-98c7-1b69eb2e43cf"
      },
      "execution_count": null,
      "outputs": [
        {
          "output_type": "stream",
          "name": "stdout",
          "text": [
            "[[0.07363249 0.1704806  0.68355229 0.12669705]\n",
            " [0.67324366 0.02032676 0.32765958 0.14006799]]\n"
          ]
        }
      ]
    },
    {
      "cell_type": "markdown",
      "source": [
        "#### <b>Pyplot Histogram</b>\n",
        "\n",
        "* 추출한 데이터는 히스토그램(histogram)을 그려 <b>확률 분포</b>를 시각화할 수 있다.\n",
        "* <b>파라미터(Parameters)</b>\n",
        "  * <b>x</b>: array or sequence of arrays.\n",
        "  * <b>bins</b>: the number of equal-width bins in the range. (default: 10)\n",
        "  * <b>range</b>: The lower and upper range of the bins. Lower and upper outliers are ignored. (default: $x.min()$, $x.max()$)\n",
        "\n",
        "* <b>Reference</b>: https://matplotlib.org/stable/api/_as_gen/matplotlib.pyplot.hist.html"
      ],
      "metadata": {
        "id": "XQdpNImiIYr4"
      }
    },
    {
      "cell_type": "code",
      "source": [
        "sampled = np.random.uniform(low=0.0, high=1.0, size=10000)\n",
        "cnt, bins, ignored = plt.hist(x=sampled, bins=100)\n",
        "plt.show()"
      ],
      "metadata": {
        "colab": {
          "base_uri": "https://localhost:8080/",
          "height": 430
        },
        "id": "ZZMLbf1VIZEz",
        "outputId": "4c43f850-fb97-493d-b0b1-61feddd439be"
      },
      "execution_count": null,
      "outputs": [
        {
          "output_type": "display_data",
          "data": {
            "text/plain": [
              "<Figure size 640x480 with 1 Axes>"
            ],
            "image/png": "[encoded data removed]"
          },
          "metadata": {}
        }
      ]
    },
    {
      "cell_type": "markdown",
      "source": [
        "#### <b>NumPy 이항 분포(Binomial Distribution)</b>\n",
        "\n",
        "* Draw samples from a binomial distribution.\n",
        "* $n$ trials and $p$ probability of success where $n$ is an interger >= 0 and $p$ is in the interval $[0, 1]$.\n",
        "* <b>파라미터(Parameters)</b>\n",
        "    * <b>n</b>: The number of trials (시행 횟수).\n",
        "    * <b>p</b>: Probability of success (성공 확률).\n",
        "    * <b>size</b>: The number of samples drawn.\n",
        "\n",
        "* The <b>확률 질량 함수(probability mass function)</b> of the binomial distribution:\n",
        "\n",
        "$p(x) = Combination(n, x) * p^x * (1-p)^{n - x}$\n",
        "\n",
        "* <b>Reference</b>: https://numpy.org/doc/stable/reference/random/generated/numpy.random.binomial.html"
      ],
      "metadata": {
        "id": "tOB2wo7fJDE3"
      }
    },
    {
      "cell_type": "code",
      "source": [
        "n = 10\n",
        "p = 0.5\n",
        "\n",
        "sampled = np.random.binomial(n, p, 10000)\n",
        "cnt, bins, ignored = plt.hist(x=sampled, bins=10, density=True)\n",
        "plt.show()"
      ],
      "metadata": {
        "colab": {
          "base_uri": "https://localhost:8080/",
          "height": 265
        },
        "id": "0zc77RaEPtqe",
        "outputId": "6502cb86-6f46-47ed-c09e-b3e1c29642ff"
      },
      "execution_count": null,
      "outputs": [
        {
          "output_type": "display_data",
          "data": {
            "text/plain": [
              "<Figure size 432x288 with 1 Axes>"
            ],
            "image/png": "[encoded data removed]"
          },
          "metadata": {
            "needs_background": "light"
          }
        }
      ]
    },
    {
      "cell_type": "markdown",
      "source": [
        "#### <b>NumPy 정규 분포(Normal Distribution)</b>\n",
        "\n",
        "* Draw random samples from a normal (Gaussian) distribution.\n",
        "* The <b>확률 밀도 함수(probability density function)</b> of the normal distribution:\n",
        "\n",
        "$p(x) = 1 / \\sqrt{2\\pi\\sigma^2} * e^{-(x-\\mu)^2 / 2\\sigma^2}$\n",
        "\n",
        "* <b>파라미터(Parameters)</b>\n",
        "    * <b>$\\mu$</b>: Mean of the normal distribution.\n",
        "    * <b>$sigma$</b>: Standard deviation of the normal distribution.\n",
        "\n",
        "* <b>Reference</b>: https://numpy.org/doc/stable/reference/random/generated/numpy.random.normal.html"
      ],
      "metadata": {
        "id": "6Gk0pj4RQcNB"
      }
    },
    {
      "cell_type": "code",
      "source": [
        "def pdf(x):\n",
        "    return 1 / (np.sqrt(2 * np.pi) * sigma) * np.exp(-(x - mu) ** 2 / (2 * sigma ** 2))\n",
        "\n",
        "mu = 2 # mean\n",
        "sigma = 1 # standard deviation\n",
        "\n",
        "sampled = np.random.normal(mu, sigma, 10000)\n",
        "cnt, bins, ingored = plt.hist(sampled, 100, density=True)\n",
        "\n",
        "plt.plot(bins, pdf(bins), linewidth=2, color='r')\n",
        "plt.show()"
      ],
      "metadata": {
        "colab": {
          "base_uri": "https://localhost:8080/",
          "height": 265
        },
        "id": "NTl39dsYQiwP",
        "outputId": "ee0f3585-2d6f-4645-f85d-5bc0c97ec88b"
      },
      "execution_count": null,
      "outputs": [
        {
          "output_type": "display_data",
          "data": {
            "text/plain": [
              "<Figure size 432x288 with 1 Axes>"
            ],
            "image/png": "[encoded data removed]"
          },
          "metadata": {
            "needs_background": "light"
          }
        }
      ]
    },
    {
      "cell_type": "markdown",
      "source": [
        "#### <b>NumPy 포아송(Poisson) Distribution</b>\n",
        "\n",
        "* <b>일정한 시간</b> 내 발생하는 사건의 <b>발생 횟수</b>에 대한 <b>확률</b>을 계산한다.\n",
        "* Draw samples from a Poisson distribution.\n",
        "* <b>Parameters</b>\n",
        "    * <b>lam (단위 시간당 발생 횟수)</b>: Expected number of events occuring in a fixed-time interval (must be >= 0).\n",
        "    * <b>size</b>: The number of samples drawn.\n",
        "\n",
        "* The probability density function of the Poisson distribution:\n",
        "\n",
        "$f(k;\\lambda) = \\lambda^k * e^{-\\lambda} / k!$\n",
        "\n",
        "* <b>Reference</b>: https://numpy.org/doc/stable/reference/random/generated/numpy.random.poisson.html"
      ],
      "metadata": {
        "id": "soOasyBLQlkR"
      }
    },
    {
      "cell_type": "code",
      "source": [
        "lam = 10\n",
        "\n",
        "sampled = np.random.poisson(lam, 10000)\n",
        "cnt, bins, ingored = plt.hist(sampled, 100)\n",
        "plt.show()"
      ],
      "metadata": {
        "colab": {
          "base_uri": "https://localhost:8080/",
          "height": 265
        },
        "id": "m-W4RobkQvZy",
        "outputId": "d948d548-ffa3-4f51-cccc-98162a48feb4"
      },
      "execution_count": null,
      "outputs": [
        {
          "output_type": "display_data",
          "data": {
            "text/plain": [
              "<Figure size 432x288 with 1 Axes>"
            ],
            "image/png": "[encoded data removed]"
          },
          "metadata": {
            "needs_background": "light"
          }
        }
      ]
    },
    {
      "cell_type": "markdown",
      "source": [
        "#### <b>NumPy 지수 분포(Exponential Distribution)</b>\n",
        "\n",
        "* 특정 시점에서 <b>어떤 사건이 일어날 때까지 걸리는 시간의 확률</b>을 계산할 때 사용한다.\n",
        "* Draw samples from an exponential distribution.\n",
        "* The exponential distribution describes many common situations, such as the time between page requests to Wikipedia.\n",
        "    * 예시) <b>위키피디아(Wikipedia)</b>에 방문자가 생긴 뒤에 뒤에, <b>그 다음 방문이 발생할 때까지 걸리는 시간</b>에 대하여 확률을 부여한다.\n",
        "* <b>Parameters</b>\n",
        "    * <b>scale</b>: The scale parameter $\\beta$ ($\\beta = 1 / \\lambda$).\n",
        "    * <b>size</b>: The number of samples drawn.\n",
        "\n",
        "* The <b>확률 밀도 함수(probability density function)</b> of the exponential distribution:\n",
        "\n",
        "$f(x; 1/\\beta) = 1/\\beta * exp(-x / \\beta)$\n",
        "\n",
        "* <b>Reference</b>: https://codetorial.net/articles/exponential_distribution.html"
      ],
      "metadata": {
        "id": "pY6gVh7PRv-A"
      }
    },
    {
      "cell_type": "code",
      "source": [
        "lam = 2\n",
        "beta = 1 / lam\n",
        "\n",
        "sampled = np.random.exponential(beta, 10000)\n",
        "cnt, bins, ingored = plt.hist(sampled, 100, density=True)\n",
        "plt.show()"
      ],
      "metadata": {
        "colab": {
          "base_uri": "https://localhost:8080/",
          "height": 265
        },
        "id": "WMK9BhsJSAzD",
        "outputId": "2e4f94f1-56e6-4ac0-f4fe-c8be9fe87bd3"
      },
      "execution_count": null,
      "outputs": [
        {
          "output_type": "display_data",
          "data": {
            "text/plain": [
              "<Figure size 432x288 with 1 Axes>"
            ],
            "image/png": "[encoded data removed]"
          },
          "metadata": {
            "needs_background": "light"
          }
        }
      ]
    }
  ]
}